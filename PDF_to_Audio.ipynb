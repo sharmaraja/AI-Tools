{
 "cells": [
  {
   "cell_type": "code",
   "execution_count": 10,
   "id": "fa6c2c85",
   "metadata": {
    "scrolled": true
   },
   "outputs": [],
   "source": [
    "# pip install PyPDF2"
   ]
  },
  {
   "cell_type": "code",
   "execution_count": 11,
   "id": "66c7f56d",
   "metadata": {
    "scrolled": true
   },
   "outputs": [],
   "source": [
    "# pip install gTTS"
   ]
  },
  {
   "cell_type": "code",
   "execution_count": 3,
   "id": "f71869bc",
   "metadata": {},
   "outputs": [],
   "source": [
    "import PyPDF2\n",
    "from gtts import gTTS\n",
    "import os"
   ]
  },
  {
   "cell_type": "code",
   "execution_count": 8,
   "id": "fdac9fd8",
   "metadata": {},
   "outputs": [],
   "source": [
    "# Step 1: Extract text from the PDF\n",
    "def extract_text_from_pdf(pdf_file):\n",
    "    text = \"\"\n",
    "    with open(pdf_file, \"rb\") as pdf:\n",
    "        pdf_reader = PyPDF2.PdfReader(pdf)\n",
    "        for page in pdf_reader.pages:\n",
    "            text += page.extract_text()\n",
    "    return text"
   ]
  },
  {
   "cell_type": "code",
   "execution_count": 5,
   "id": "6e9104b0",
   "metadata": {},
   "outputs": [],
   "source": [
    "# Step 2: Convert text to an audio file using gTTS\n",
    "def text_to_audio(text, audio_file):\n",
    "    tts = gTTS(text)\n",
    "    tts.save(audio_file)"
   ]
  },
  {
   "cell_type": "code",
   "execution_count": 9,
   "id": "36be7cbd",
   "metadata": {},
   "outputs": [
    {
     "name": "stdout",
     "output_type": "stream",
     "text": [
      "PDF to audio conversion complete. Output saved as C:\\Users\\rajat.sharma\\Downloads\\03.2_Notes_pdf_audio.mp3\n"
     ]
    }
   ],
   "source": [
    "if __name__ == \"__main__\":\n",
    "    pdf_file = r\"C:\\Users\\rajat.sharma\\Downloads\\03.2_Notes.pdf\"  # Replace with the path to your PDF file\n",
    "    audio_file = r\"C:\\Users\\rajat.sharma\\Downloads\\03.2_Notes_pdf_audio.mp3\"  # Replace with the desired output audio file name\n",
    "    text = extract_text_from_pdf(pdf_file)\n",
    "    text_to_audio(text, audio_file)\n",
    "\n",
    "    print(f\"PDF to audio conversion complete. Output saved as {audio_file}\")"
   ]
  },
  {
   "cell_type": "code",
   "execution_count": null,
   "id": "942bae8b",
   "metadata": {},
   "outputs": [],
   "source": []
  },
  {
   "cell_type": "code",
   "execution_count": null,
   "id": "f7ee6bba",
   "metadata": {},
   "outputs": [],
   "source": []
  }
 ],
 "metadata": {
  "kernelspec": {
   "display_name": "Python 3 (ipykernel)",
   "language": "python",
   "name": "python3"
  },
  "language_info": {
   "codemirror_mode": {
    "name": "ipython",
    "version": 3
   },
   "file_extension": ".py",
   "mimetype": "text/x-python",
   "name": "python",
   "nbconvert_exporter": "python",
   "pygments_lexer": "ipython3",
   "version": "3.9.13"
  }
 },
 "nbformat": 4,
 "nbformat_minor": 5
}
