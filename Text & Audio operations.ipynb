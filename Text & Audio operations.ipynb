{
 "cells": [
  {
   "cell_type": "markdown",
   "id": "2d59e1ee",
   "metadata": {},
   "source": [
    "# Operations on text data"
   ]
  },
  {
   "cell_type": "code",
   "execution_count": null,
   "id": "007c0ba0",
   "metadata": {},
   "outputs": [],
   "source": []
  },
  {
   "cell_type": "markdown",
   "id": "08fb0964",
   "metadata": {},
   "source": [
    "## Text to Audio"
   ]
  },
  {
   "cell_type": "code",
   "execution_count": 10,
   "id": "672d226a",
   "metadata": {
    "scrolled": true
   },
   "outputs": [],
   "source": [
    "# pip install PyPDF2"
   ]
  },
  {
   "cell_type": "code",
   "execution_count": 11,
   "id": "44ded2fe",
   "metadata": {
    "scrolled": true
   },
   "outputs": [],
   "source": [
    "# pip install gTTS"
   ]
  },
  {
   "cell_type": "code",
   "execution_count": 1,
   "id": "2e3c99b1",
   "metadata": {},
   "outputs": [],
   "source": [
    "import PyPDF2\n",
    "from gtts import gTTS\n",
    "import os"
   ]
  },
  {
   "cell_type": "code",
   "execution_count": 2,
   "id": "03eaae9d",
   "metadata": {},
   "outputs": [],
   "source": [
    "# Step 1: Extract text from the PDF\n",
    "def extract_text_from_pdf(pdf_file):\n",
    "    text = \"\"\n",
    "    with open(pdf_file, \"rb\") as pdf:\n",
    "        pdf_reader = PyPDF2.PdfReader(pdf)\n",
    "        for page in pdf_reader.pages:\n",
    "            text += page.extract_text()\n",
    "    return text"
   ]
  },
  {
   "cell_type": "code",
   "execution_count": 3,
   "id": "ca519988",
   "metadata": {},
   "outputs": [],
   "source": [
    "# Step 2: Convert text to an audio file using gTTS\n",
    "def text_to_audio(text, audio_file, lang):\n",
    "    tts = gTTS(text, lang=lang)\n",
    "    tts.save(audio_file)"
   ]
  },
  {
   "cell_type": "code",
   "execution_count": 5,
   "id": "6a22acb7",
   "metadata": {},
   "outputs": [
    {
     "name": "stdout",
     "output_type": "stream",
     "text": [
      "PDF to audio conversion complete. Output saved as C:\\Users\\rajat.sharma\\Downloads\\03.2_Notes_pdf_audio.mp3\n"
     ]
    }
   ],
   "source": [
    "if __name__ == \"__main__\":\n",
    "    pdf_file = r\"C:\\Users\\rajat.sharma\\Downloads\\03.2_Notes.pdf\"  # Replace with the path to your PDF file\n",
    "    audio_file = r\"C:\\Users\\rajat.sharma\\Downloads\\03.2_Notes_pdf_audio.mp3\"  # Replace with the desired output audio file name\n",
    "    text = extract_text_from_pdf(pdf_file)\n",
    "    text_to_audio(text, audio_file, 'en')\n",
    "\n",
    "    print(f\"PDF to audio conversion complete. Output saved as {audio_file}\")"
   ]
  },
  {
   "cell_type": "code",
   "execution_count": null,
   "id": "1839941a",
   "metadata": {},
   "outputs": [],
   "source": []
  },
  {
   "cell_type": "markdown",
   "id": "cc4c9924",
   "metadata": {},
   "source": [
    "# Text Translator"
   ]
  },
  {
   "cell_type": "code",
   "execution_count": null,
   "id": "12c390cd",
   "metadata": {},
   "outputs": [],
   "source": []
  },
  {
   "cell_type": "code",
   "execution_count": 23,
   "id": "622755b2",
   "metadata": {
    "scrolled": true
   },
   "outputs": [],
   "source": [
    "# pip install googletrans"
   ]
  },
  {
   "cell_type": "code",
   "execution_count": 25,
   "id": "5429c60b",
   "metadata": {
    "scrolled": true
   },
   "outputs": [],
   "source": [
    "# pip install translate"
   ]
  },
  {
   "cell_type": "code",
   "execution_count": null,
   "id": "e597395a",
   "metadata": {},
   "outputs": [],
   "source": []
  },
  {
   "cell_type": "code",
   "execution_count": 6,
   "id": "cb3750ec",
   "metadata": {},
   "outputs": [],
   "source": [
    "# from googletrans import Translator\n",
    "from translate import Translator"
   ]
  },
  {
   "cell_type": "code",
   "execution_count": null,
   "id": "b365d0a1",
   "metadata": {},
   "outputs": [],
   "source": []
  },
  {
   "cell_type": "code",
   "execution_count": 7,
   "id": "986a0b08",
   "metadata": {},
   "outputs": [],
   "source": [
    "pdf_file = r\"C:\\Users\\rajat.sharma\\Downloads\\03.2_Notes.pdf\"\n",
    "text = extract_text_from_pdf(pdf_file)"
   ]
  },
  {
   "cell_type": "code",
   "execution_count": 8,
   "id": "8c06de28",
   "metadata": {},
   "outputs": [],
   "source": [
    "def translate_text(text, source_lang, target_lang):\n",
    "    # Define a maximum chunk length (adjust as needed)\n",
    "    max_chunk_length = 500  # You can change this value based on your requirements\n",
    "    translated_chunks = []\n",
    "\n",
    "    # Split the text into chunks\n",
    "    chunks = [text[i:i + max_chunk_length] for i in range(0, len(text), max_chunk_length)]\n",
    "\n",
    "    # Translate each chunk\n",
    "    for chunk in chunks:\n",
    "        translator = Translator(to_lang=target_lang, from_lang=source_lang)\n",
    "        translated_text = translator.translate(chunk)\n",
    "        translated_chunks.append(translated_text)\n",
    "\n",
    "    # Combine the translated chunks into a single string\n",
    "    translated_text = ' '.join(translated_chunks)\n",
    "    return translated_text"
   ]
  },
  {
   "cell_type": "code",
   "execution_count": 9,
   "id": "9a3546af",
   "metadata": {},
   "outputs": [
    {
     "name": "stdout",
     "output_type": "stream",
     "text": [
      "Translated Text: मशीन लर्निंग मॉडल की तैनाती\n",
      "खंड 3.2 नोट्स\n",
      "व्याख्यान में संदर्भित लिंक\n",
      "पेपर:\n",
      "1. \"मशीन लर्निंग सिस्टम में छिपे हुए तकनीकी ऋण\"\n",
      "यूआरएल डाउनलोड करें:\n",
      "https://papers.nips.cc/paper/2015/file/86df7dcfd896fcaf2674f757a2463eba-Paper .pdf\n",
      "मॉनिटरिंग एमएल  मॉडल: https://christophergs.com/machine% 20learning\n",
      "/2020/03/14/how - to - monitor - machine -\n",
      "लर्निंग - मॉडल/\n",
      "नीचे दिए गए संसाधन अधिक उन्नत विषयों पर हैं जो\n",
      "हम पाठ्यक्रम में शामिल नहीं होंगे\n",
      "●Googleकी साइट विश्वसनीयता और ngineeringi 's one of thebest references out ther e, it's available f or fr ee her e:https :// landing. google.c om/sre/sre - book/t oc/inde x.html\n",
      "●मार्टिन एफ ओव्लर की परीक्षण मार्गदर्शिका है pr etty compr ehensiv e.If you ar e ne w to test thismay be o verwhelming::https :// ww.martin fowler.com/t esting/\n",
      "T esting● का पालन करें Goatby Harr y Percival एक g oodapplied in troduction t o Test Driv enDevelopmen t (TDD):https :// ww.obe ythetestinggoat.com/\n",
      "एडवांस्ड, नैर ओव बनाम ब्रॉड इन टीग्रेशन टी एस्ट्स:https :// मार्टिन फाउल er.com/bliki/In tegrationT est.html\n"
     ]
    }
   ],
   "source": [
    "if __name__ == \"__main__\":\n",
    "#     source_text = \"Hello, how are you?\"\n",
    "    source_language = \"en\"  # Source language code (e.g., \"en\" for English)\n",
    "    target_language = \"hi\"  # Target language code (e.g., \"hi\" for Hindi)\n",
    "\n",
    "    translated_text = translate_text( extract_text_from_pdf(pdf_file), source_language, target_language)\n",
    "\n",
    "#     print(f\"Source Text: {source_text}\")\n",
    "    print(f\"Translated Text: {translated_text}\")"
   ]
  },
  {
   "cell_type": "code",
   "execution_count": null,
   "id": "f46c30d4",
   "metadata": {},
   "outputs": [],
   "source": []
  },
  {
   "cell_type": "markdown",
   "id": "b6c93b4b",
   "metadata": {},
   "source": [
    "### Taking audio file of this hindi converted text file"
   ]
  },
  {
   "cell_type": "code",
   "execution_count": 47,
   "id": "04b3eb16",
   "metadata": {},
   "outputs": [],
   "source": [
    "audio_file = r\"C:\\Users\\rajat.sharma\\Downloads\\03.2_Notes_pdf_hindi_audio.mp3\" \n",
    "text_to_audio(translated_text,audio_file,'hi')"
   ]
  },
  {
   "cell_type": "code",
   "execution_count": null,
   "id": "7e3ac6f6",
   "metadata": {},
   "outputs": [],
   "source": []
  },
  {
   "cell_type": "code",
   "execution_count": null,
   "id": "8c773ceb",
   "metadata": {},
   "outputs": [],
   "source": []
  },
  {
   "cell_type": "markdown",
   "id": "1766a442",
   "metadata": {},
   "source": [
    "## Image to text"
   ]
  },
  {
   "cell_type": "markdown",
   "id": "6744acee",
   "metadata": {},
   "source": [
    "#### As of now this can convert a printed image to text with high accuracy but for hand written notes it's not very accurate"
   ]
  },
  {
   "cell_type": "code",
   "execution_count": null,
   "id": "4abc34b9",
   "metadata": {},
   "outputs": [],
   "source": []
  },
  {
   "cell_type": "code",
   "execution_count": 26,
   "id": "c93450ea",
   "metadata": {},
   "outputs": [],
   "source": [
    "# pip install opencv-python"
   ]
  },
  {
   "cell_type": "code",
   "execution_count": 27,
   "id": "c8dad621",
   "metadata": {},
   "outputs": [],
   "source": [
    "# pip install pytesseract"
   ]
  },
  {
   "cell_type": "code",
   "execution_count": 13,
   "id": "b62b33f0",
   "metadata": {},
   "outputs": [],
   "source": [
    "import cv2\n",
    "import pytesseract"
   ]
  },
  {
   "cell_type": "code",
   "execution_count": 18,
   "id": "8308051b",
   "metadata": {},
   "outputs": [],
   "source": [
    "# Path to the Tesseract executable (update this path based on your installation)\n",
    "pytesseract.pytesseract.tesseract_cmd = r'C:\\Users\\rajat.sharma\\AppData\\Local\\Programs\\Tesseract-OCR\\tesseract.exe'"
   ]
  },
  {
   "cell_type": "code",
   "execution_count": 21,
   "id": "adfa6be9",
   "metadata": {},
   "outputs": [],
   "source": [
    "# Load the image using OpenCV\n",
    "image_path = r\"C:\\Users\\rajat.sharma\\Downloads\\Image_test.JPG\"\n",
    "img = cv2.imread(image_path)"
   ]
  },
  {
   "cell_type": "code",
   "execution_count": 22,
   "id": "aaf1254d",
   "metadata": {},
   "outputs": [],
   "source": [
    "# Convert the image to grayscale (OCR works better on grayscale images)\n",
    "gray = cv2.cvtColor(img, cv2.COLOR_BGR2GRAY)"
   ]
  },
  {
   "cell_type": "code",
   "execution_count": 24,
   "id": "b601a833",
   "metadata": {},
   "outputs": [],
   "source": [
    "# Use Tesseract to perform OCR and extract text from the image\n",
    "text = pytesseract.image_to_string(gray)"
   ]
  },
  {
   "cell_type": "code",
   "execution_count": 25,
   "id": "f837b5a4",
   "metadata": {},
   "outputs": [
    {
     "name": "stdout",
     "output_type": "stream",
     "text": [
      "Extracted Text:\n",
      "Classification is a problem of automatically assigning a label to an unlabeled example. Spam\n",
      "detection is a famous example of classification.\n",
      "\n",
      "In Machine learning, the classification problem is solved by a classification learning algorithm\n",
      "that takes a collection of labeled examples as inputs and produces a model that can take an\n",
      "unlabeled example as input and either directly outputa label or output a number that can\n",
      "be used by the analyst to deduce the label.\n",
      "\n",
      "the output has predefined labels that have discrete values and the goal is to predict discrete\n",
      "values that belong to a class and evaluate on the basis of accuracy. If the target variable is\n",
      "categorical (classes), then use classification algorithm. It is applied when the output has\n",
      "finite and discrete values.\n",
      "\n"
     ]
    }
   ],
   "source": [
    "# Print the extracted text\n",
    "print(\"Extracted Text:\")\n",
    "print(text)"
   ]
  },
  {
   "cell_type": "code",
   "execution_count": null,
   "id": "feb3a1b4",
   "metadata": {},
   "outputs": [],
   "source": []
  },
  {
   "cell_type": "code",
   "execution_count": null,
   "id": "e36ca95b",
   "metadata": {},
   "outputs": [],
   "source": []
  },
  {
   "cell_type": "code",
   "execution_count": null,
   "id": "3c664553",
   "metadata": {},
   "outputs": [],
   "source": []
  },
  {
   "cell_type": "code",
   "execution_count": null,
   "id": "d401bf6d",
   "metadata": {},
   "outputs": [],
   "source": []
  },
  {
   "cell_type": "code",
   "execution_count": null,
   "id": "7e8327ee",
   "metadata": {},
   "outputs": [],
   "source": []
  }
 ],
 "metadata": {
  "kernelspec": {
   "display_name": "Python 3 (ipykernel)",
   "language": "python",
   "name": "python3"
  },
  "language_info": {
   "codemirror_mode": {
    "name": "ipython",
    "version": 3
   },
   "file_extension": ".py",
   "mimetype": "text/x-python",
   "name": "python",
   "nbconvert_exporter": "python",
   "pygments_lexer": "ipython3",
   "version": "3.9.13"
  }
 },
 "nbformat": 4,
 "nbformat_minor": 5
}
